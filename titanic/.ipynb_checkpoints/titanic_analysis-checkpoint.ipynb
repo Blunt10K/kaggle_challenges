{
 "cells": [
  {
   "cell_type": "markdown",
   "metadata": {},
   "source": [
    "# This notebook is an exercise in data analysis.\n",
    "\n",
    "### The data under analysis is the Kaggle Titanic dataset. Questions will be asked about a what attributes of a person predict their chances of surviving the accident."
   ]
  },
  {
   "cell_type": "code",
   "execution_count": 133,
   "metadata": {},
   "outputs": [],
   "source": [
    "import pandas as pd\n",
    "import matplotlib.pyplot as plt"
   ]
  },
  {
   "cell_type": "markdown",
   "metadata": {},
   "source": [
    "## The variables relevant to the analysis:"
   ]
  },
  {
   "cell_type": "code",
   "execution_count": 2,
   "metadata": {},
   "outputs": [],
   "source": [
    "fields = ['Survived', 'Pclass', 'Sex', 'Age','SibSp',\n",
    "          'Parch', 'Fare', 'Cabin', 'Embarked']"
   ]
  },
  {
   "cell_type": "code",
   "execution_count": 3,
   "metadata": {},
   "outputs": [],
   "source": [
    "df = pd.read_csv('./train.csv',usecols=fields)"
   ]
  },
  {
   "cell_type": "markdown",
   "metadata": {},
   "source": [
    "## The sinking of the Titanic was a deadly event. "
   ]
  },
  {
   "cell_type": "code",
   "execution_count": 4,
   "metadata": {},
   "outputs": [],
   "source": [
    "total_people = len(df)"
   ]
  },
  {
   "cell_type": "code",
   "execution_count": 5,
   "metadata": {},
   "outputs": [],
   "source": [
    "survived = df.loc[df[\"Survived\"]==1]\n",
    "total_survivors = len(survived)\n",
    "prob_survived = total_survivors/total_people"
   ]
  },
  {
   "cell_type": "code",
   "execution_count": 6,
   "metadata": {},
   "outputs": [],
   "source": [
    "perished = df.loc[df[\"Survived\"]==0]\n",
    "total_perished = len(perished)\n",
    "prob_deceased = total_perished/total_people"
   ]
  },
  {
   "cell_type": "code",
   "execution_count": 7,
   "metadata": {},
   "outputs": [
    {
     "name": "stdout",
     "output_type": "stream",
     "text": [
      "38.38% survived. 61.62% perished\n"
     ]
    }
   ],
   "source": [
    "print(\"{:.2f}% survived. {:.2f}% perished\".\\\n",
    "      format(prob_survived*100,prob_deceased*100))"
   ]
  },
  {
   "cell_type": "markdown",
   "metadata": {},
   "source": [
    "Survived (%) | Perished (%)\n",
    "--- | --- |\n",
    "38.38 | 61.62\n",
    "\n",
    "### You were more likely to perish on the Titanic than to survive.\n",
    "\n",
    "==> $P(Survived) = 38.38\\%$\n",
    "\n",
    "==> $P(Deceased) = 61.62\\%$"
   ]
  },
  {
   "cell_type": "code",
   "execution_count": null,
   "metadata": {},
   "outputs": [],
   "source": []
  },
  {
   "cell_type": "markdown",
   "metadata": {},
   "source": [
    "## What is the effect of gender on chances of survival?"
   ]
  },
  {
   "cell_type": "code",
   "execution_count": 8,
   "metadata": {},
   "outputs": [],
   "source": [
    "prob_male = len(df.loc[df[\"Sex\"]==\\\n",
    "                    \"male\"])/total_people\n",
    "\n",
    "prob_female = len(df.loc[df[\"Sex\"]==\\\n",
    "                    \"female\"])/total_people"
   ]
  },
  {
   "cell_type": "code",
   "execution_count": 9,
   "metadata": {},
   "outputs": [
    {
     "name": "stdout",
     "output_type": "stream",
     "text": [
      "35.24% of the passengers are female. 64.76% are male\n"
     ]
    }
   ],
   "source": [
    "print(\"{:.2f}% of the passengers are female. {:.2f}% are male\".\\\n",
    "      format(prob_female*100,prob_male*100))"
   ]
  },
  {
   "cell_type": "markdown",
   "metadata": {},
   "source": [
    "% Female | % Male\n",
    "--- | --- |\n",
    "35.24 | 64.76\n",
    "\n",
    "You were more likely to come across a male on the Titanic that day.\n",
    "\n",
    "==> $P(Female) = 35.24\\%$\n",
    "\n",
    "==> $P(Male)= 64.76\\%$"
   ]
  },
  {
   "cell_type": "code",
   "execution_count": 10,
   "metadata": {},
   "outputs": [],
   "source": [
    "female_survivors = len(survived.loc[survived[\"Sex\"]==\"female\"])\n",
    "male_survivors = len(survived.loc[survived[\"Sex\"]==\"male\"])"
   ]
  },
  {
   "cell_type": "code",
   "execution_count": 11,
   "metadata": {},
   "outputs": [
    {
     "name": "stdout",
     "output_type": "stream",
     "text": [
      "68.13% of survivors are female. 31.87% of survivors are male\n"
     ]
    }
   ],
   "source": [
    "prob_female_survived = female_survivors/total_survivors\n",
    "prob_male_survived = male_survivors/total_survivors\n",
    "\n",
    "print(\"{:.2f}% of survivors are female. {:.2f}% of survivors are male\"\\\n",
    "      .format(prob_female_survived*100,prob_male_survived*100))"
   ]
  },
  {
   "cell_type": "markdown",
   "metadata": {},
   "source": [
    "Gender | survival chance (%)\n",
    "--- | --- |\n",
    "Female | 68.13\n",
    "Male | 31.87\n",
    "\n",
    "It can be seen that the probability that a survivor is female is 68.13\\%.\n",
    "\n",
    "==> $P(Female | Survived) = 68.13\\%$\n",
    "\n",
    "The probability that a survivor is male is 31.87\\%.\n",
    "\n",
    "==> $P(Male | Survived) = 31.87\\%$"
   ]
  },
  {
   "cell_type": "code",
   "execution_count": 12,
   "metadata": {},
   "outputs": [],
   "source": [
    "female_deceased = len(perished.loc[perished[\"Sex\"]==\"female\"])\n",
    "male_deceased = len(perished.loc[perished[\"Sex\"]==\"male\"])"
   ]
  },
  {
   "cell_type": "code",
   "execution_count": 13,
   "metadata": {},
   "outputs": [
    {
     "name": "stdout",
     "output_type": "stream",
     "text": [
      "14.75% of the deceased are female. 85.25% of the deceased are male\n"
     ]
    }
   ],
   "source": [
    "prob_female_deceased = female_deceased/total_perished\n",
    "prob_male_deceased = male_deceased/total_perished\n",
    "\n",
    "print(\"{:.2f}% of the deceased are female. {:.2f}% of the \\\n",
    "deceased are male\".format(prob_female_deceased*100,prob_male_deceased*100))"
   ]
  },
  {
   "cell_type": "markdown",
   "metadata": {},
   "source": [
    "Gender | perish chance (%)\n",
    "--- | --- |\n",
    "Female | 14.75\n",
    "Male | 85.25\n",
    "\n",
    "It can be seen that the probability that the person deceased is female is 14.75\\%.\n",
    "\n",
    "==> $P(Female | Deceased) = 14.75\\%$\n",
    "\n",
    "The probability that person deceased is male is 85.25\\%.\n",
    "\n",
    "==> $P(Male | Deceased) = 85.25\\%$"
   ]
  },
  {
   "cell_type": "code",
   "execution_count": null,
   "metadata": {},
   "outputs": [],
   "source": []
  },
  {
   "cell_type": "markdown",
   "metadata": {},
   "source": [
    "## Using Bayes' Theorem, you can now calculate the probability that a person survived or died given their gender by making use of the probabilities calculated above:\n",
    "\n",
    "$P(Survived) = 38.38\\%$\n",
    "\n",
    "$P(Deceased) = 61.62\\%$\n",
    "\n",
    "$P(Female) = 35.24\\%$\n",
    "\n",
    "$P(Male)= 64.76\\%$\n",
    "\n",
    "$P(Female | Survived) = 68.13\\%$\n",
    "\n",
    "$P(Male | Survived) = 31.87\\%$\n",
    "\n",
    "$P(Female | Deceased) = 14.75\\%$\n",
    "\n",
    "$P(Male | Deceased) = 85.25\\%$"
   ]
  },
  {
   "cell_type": "code",
   "execution_count": null,
   "metadata": {},
   "outputs": [],
   "source": []
  },
  {
   "cell_type": "markdown",
   "metadata": {},
   "source": [
    "## The probabilities of surviving or dying with respect to gender are as follows:\n",
    "\n"
   ]
  },
  {
   "cell_type": "code",
   "execution_count": null,
   "metadata": {},
   "outputs": [],
   "source": []
  },
  {
   "cell_type": "markdown",
   "metadata": {},
   "source": [
    "### Probability of survival given the person is female is:\n",
    "\n",
    "\n",
    "$P(Survived | Female) = \\dfrac{P(Female|Survived)\\cdot P(Survived)}{P(Female)} = \\dfrac{0.6813 \\cdot 0.3838}{0.3524} = 74.20\\%$"
   ]
  },
  {
   "cell_type": "code",
   "execution_count": 14,
   "metadata": {
    "scrolled": true
   },
   "outputs": [
    {
     "name": "stdout",
     "output_type": "stream",
     "text": [
      "74.20%\n"
     ]
    }
   ],
   "source": [
    "prob_survived_female = (prob_female_survived*prob_survived)/prob_female\n",
    "print(\"{:.2f}%\".format(prob_survived_female*100))"
   ]
  },
  {
   "cell_type": "code",
   "execution_count": null,
   "metadata": {},
   "outputs": [],
   "source": []
  },
  {
   "cell_type": "markdown",
   "metadata": {},
   "source": [
    "### Probability of being deceased given the person is female is:\n",
    "\n",
    "$P(Deceased | Female) = \\dfrac{P(Female|Deceased)\\cdot P(Deceased)}{P(Female)} = \\dfrac{0.1475 \\cdot 0.6162}{0.3524} = 25.80\\%$"
   ]
  },
  {
   "cell_type": "code",
   "execution_count": 15,
   "metadata": {
    "scrolled": true
   },
   "outputs": [
    {
     "name": "stdout",
     "output_type": "stream",
     "text": [
      "25.80%\n"
     ]
    }
   ],
   "source": [
    "prob_deceased_female = (prob_female_deceased*prob_deceased)/prob_female\n",
    "print(\"{:.2f}%\".format(prob_deceased_female*100))"
   ]
  },
  {
   "cell_type": "code",
   "execution_count": null,
   "metadata": {},
   "outputs": [],
   "source": []
  },
  {
   "cell_type": "markdown",
   "metadata": {},
   "source": [
    "### Probability of survival given the person is male is:\n",
    "\n",
    "$P(Survived | Male) = \\dfrac{P(Male|Survived)\\cdot P(Survived)}{P(Male)} = \\dfrac{0.3187 \\cdot 0.3838}{0.6476} = 18.89\\%$"
   ]
  },
  {
   "cell_type": "code",
   "execution_count": 16,
   "metadata": {
    "scrolled": true
   },
   "outputs": [
    {
     "name": "stdout",
     "output_type": "stream",
     "text": [
      "18.89%\n"
     ]
    }
   ],
   "source": [
    "prob_survived_male = (prob_male_survived*prob_survived)/prob_male\n",
    "print(\"{:.2f}%\".format(prob_survived_male*100))"
   ]
  },
  {
   "cell_type": "code",
   "execution_count": null,
   "metadata": {},
   "outputs": [],
   "source": []
  },
  {
   "cell_type": "markdown",
   "metadata": {},
   "source": [
    "### Probability of being deceased given the person is male is:\n",
    "\n",
    "$P(Deceased | Male) = \\dfrac{P(Male|Deceased)\\cdot P(Deceased)}{P(Male)} = \\dfrac{0.8525 \\cdot 0.3838}{0.6476}= 81.11\\%$"
   ]
  },
  {
   "cell_type": "code",
   "execution_count": 17,
   "metadata": {
    "scrolled": false
   },
   "outputs": [
    {
     "name": "stdout",
     "output_type": "stream",
     "text": [
      "81.11%\n"
     ]
    }
   ],
   "source": [
    "prob_deceased_male = (prob_male_deceased*prob_deceased)/prob_male\n",
    "print(\"{:.2f}%\".format(prob_deceased_male*100))"
   ]
  },
  {
   "cell_type": "code",
   "execution_count": null,
   "metadata": {},
   "outputs": [],
   "source": []
  },
  {
   "cell_type": "markdown",
   "metadata": {},
   "source": [
    "## It is quite obvious that gender has an effect surviving the sinking of the Titanic."
   ]
  },
  {
   "cell_type": "code",
   "execution_count": 158,
   "metadata": {},
   "outputs": [
    {
     "name": "stderr",
     "output_type": "stream",
     "text": [
      "/opt/anaconda3/lib/python3.7/site-packages/ipykernel_launcher.py:16: MatplotlibDeprecationWarning: Passing the minor parameter of set_ticks() positionally is deprecated since Matplotlib 3.2; the parameter will become keyword-only two minor releases later.\n",
      "  app.launch_new_instance()\n"
     ]
    },
    {
     "data": {
      "text/plain": [
       "<matplotlib.legend.Legend at 0x7f7fea56bf10>"
      ]
     },
     "execution_count": 158,
     "metadata": {},
     "output_type": "execute_result"
    },
    {
     "data": {
      "image/png": "[encoded data removed]",
      "text/plain": [
       "<Figure size 432x288 with 1 Axes>"
      ]
     },
     "metadata": {
      "needs_background": "light"
     },
     "output_type": "display_data"
    }
   ],
   "source": [
    "fig = plt.figure()\n",
    "ax = fig.add_axes([0,1,1,1])\n",
    "\n",
    "classes = range(0,2)\n",
    "width = .5\n",
    "male_chances = [prob_survived_male, prob_deceased_male]\n",
    "female_chances = [prob_survived_female, prob_deceased_female]\n",
    "\n",
    "survival_chances = [prob_survived_male,prob_survived_female]\n",
    "deceased_chances = [prob_deceased_male,prob_deceased_female]\n",
    "\n",
    "ax.barh(classes,deceased_chances,width, color= \"r\", tick_label = (\"Male\",\"Female\"))\n",
    "ax.barh(classes,survival_chances,width,left = deceased_chances, color= \"b\")\n",
    "\n",
    "ax.set_ylabel(\"Survived\")\n",
    "ax.set_yticks(classes,(\"Male\",\"Female\"))\n",
    "ax.legend(labels = (\"Deceased\",\"Survived\"))"
   ]
  },
  {
   "cell_type": "code",
   "execution_count": 152,
   "metadata": {},
   "outputs": [
    {
     "data": {
      "text/plain": [
       "0.2579617834394904"
      ]
     },
     "execution_count": 152,
     "metadata": {},
     "output_type": "execute_result"
    }
   ],
   "source": [
    "prob_deceased_female"
   ]
  },
  {
   "cell_type": "code",
   "execution_count": 153,
   "metadata": {},
   "outputs": [
    {
     "data": {
      "text/plain": [
       "0.7420382165605095"
      ]
     },
     "execution_count": 153,
     "metadata": {},
     "output_type": "execute_result"
    }
   ],
   "source": [
    "prob_survived_female"
   ]
  },
  {
   "cell_type": "code",
   "execution_count": null,
   "metadata": {},
   "outputs": [],
   "source": []
  }
 ],
 "metadata": {
  "kernelspec": {
   "display_name": "Python 3",
   "language": "python",
   "name": "python3"
  },
  "language_info": {
   "codemirror_mode": {
    "name": "ipython",
    "version": 3
   },
   "file_extension": ".py",
   "mimetype": "text/x-python",
   "name": "python",
   "nbconvert_exporter": "python",
   "pygments_lexer": "ipython3",
   "version": "3.7.9"
  }
 },
 "nbformat": 4,
 "nbformat_minor": 5
}
