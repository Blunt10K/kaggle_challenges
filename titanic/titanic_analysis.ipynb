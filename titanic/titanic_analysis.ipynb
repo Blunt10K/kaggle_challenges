{
 "cells": [
  {
   "cell_type": "markdown",
   "id": "fa07751f",
   "metadata": {},
   "source": [
    "# This notebook is an exercise in data analysis.\n",
    "\n",
    "### The data under analysis is the Kaggle Titanic dataset. Questions will be asked about a what attributes of a person predict their chances of surviving the accident."
   ]
  },
  {
   "cell_type": "code",
   "execution_count": 1,
   "id": "8633d7fd",
   "metadata": {},
   "outputs": [],
   "source": [
    "import pandas as pd"
   ]
  },
  {
   "cell_type": "markdown",
   "id": "76e616de",
   "metadata": {},
   "source": [
    "## The variables relevant to the analysis:"
   ]
  },
  {
   "cell_type": "code",
   "execution_count": 2,
   "id": "1c49bda5",
   "metadata": {},
   "outputs": [],
   "source": [
    "fields = ['Survived', 'Pclass', 'Sex', 'Age','SibSp',\n",
    "          'Parch', 'Fare', 'Cabin', 'Embarked']"
   ]
  },
  {
   "cell_type": "code",
   "execution_count": 3,
   "id": "99d100ef",
   "metadata": {},
   "outputs": [],
   "source": [
    "df = pd.read_csv('./train.csv',usecols=fields)"
   ]
  },
  {
   "cell_type": "markdown",
   "id": "f7fd0fe0",
   "metadata": {},
   "source": [
    "## The sinking of the Titanic was a deadly event. "
   ]
  },
  {
   "cell_type": "code",
   "execution_count": 4,
   "id": "f4bffff3",
   "metadata": {},
   "outputs": [],
   "source": [
    "total_people = len(df)"
   ]
  },
  {
   "cell_type": "code",
   "execution_count": 5,
   "id": "3b1762eb",
   "metadata": {},
   "outputs": [],
   "source": [
    "survived = df.loc[df[\"Survived\"]==1]\n",
    "total_survivors = len(survived)\n",
    "prob_survived = total_survivors/total_people"
   ]
  },
  {
   "cell_type": "code",
   "execution_count": 6,
   "id": "e359926c",
   "metadata": {},
   "outputs": [],
   "source": [
    "perished = df.loc[df[\"Survived\"]==0]\n",
    "total_perished = len(perished)\n",
    "prob_deceased = total_perished/total_people"
   ]
  },
  {
   "cell_type": "code",
   "execution_count": 7,
   "id": "a34eb99e",
   "metadata": {},
   "outputs": [
    {
     "name": "stdout",
     "output_type": "stream",
     "text": [
      "38.38% survived. 61.62% perished\n"
     ]
    }
   ],
   "source": [
    "print(\"{:.2f}% survived. {:.2f}% perished\".\\\n",
    "      format(prob_survived*100,prob_deceased*100))"
   ]
  },
  {
   "cell_type": "markdown",
   "id": "81d242ba",
   "metadata": {},
   "source": [
    "### You were more likely to perish on the Titanic than to survive.\n",
    "\n",
    "$$P(Survived) = 38.38\\%$$\n",
    "\n",
    "$$P(Deceased) = 61.62\\%$$"
   ]
  },
  {
   "cell_type": "code",
   "execution_count": null,
   "id": "4a454ff5",
   "metadata": {},
   "outputs": [],
   "source": []
  },
  {
   "cell_type": "markdown",
   "id": "9e8f5838",
   "metadata": {},
   "source": [
    "## What is the effect of gender on chances of survival?"
   ]
  },
  {
   "cell_type": "code",
   "execution_count": 8,
   "id": "6b921ebd",
   "metadata": {},
   "outputs": [],
   "source": [
    "prob_male = len(df.loc[df[\"Sex\"]==\\\n",
    "                    \"male\"])/total_people\n",
    "\n",
    "prob_female = len(df.loc[df[\"Sex\"]==\\\n",
    "                    \"female\"])/total_people"
   ]
  },
  {
   "cell_type": "code",
   "execution_count": 9,
   "id": "c42f0c2a",
   "metadata": {},
   "outputs": [
    {
     "name": "stdout",
     "output_type": "stream",
     "text": [
      "35.24% of the passengers are female. 64.76% are male\n"
     ]
    }
   ],
   "source": [
    "print(\"{:.2f}% of the passengers are female. {:.2f}% are male\".\\\n",
    "      format(prob_female*100,prob_male*100))"
   ]
  },
  {
   "cell_type": "markdown",
   "id": "b4200702",
   "metadata": {},
   "source": [
    "You were more likely to come across a male on the Titanic that day.\n",
    "\n",
    "$$P(Female) = 35.24\\%$$\n",
    "\n",
    "$$P(Male)= 64.76\\%$$"
   ]
  },
  {
   "cell_type": "code",
   "execution_count": 10,
   "id": "3e8af96f",
   "metadata": {},
   "outputs": [],
   "source": [
    "female_survivors = len(survived.loc[survived[\"Sex\"]==\"female\"])\n",
    "male_survivors = len(survived.loc[survived[\"Sex\"]==\"male\"])"
   ]
  },
  {
   "cell_type": "code",
   "execution_count": 11,
   "id": "31aee4d4",
   "metadata": {},
   "outputs": [
    {
     "name": "stdout",
     "output_type": "stream",
     "text": [
      "68.13% of survivors are female. 31.87% of survivors are male\n"
     ]
    }
   ],
   "source": [
    "prob_female_survived = female_survivors/total_survivors\n",
    "prob_male_survived = male_survivors/total_survivors\n",
    "\n",
    "print(\"{:.2f}% of survivors are female. {:.2f}% of survivors are male\"\\\n",
    "      .format(prob_female_survived*100,prob_male_survived*100))"
   ]
  },
  {
   "cell_type": "markdown",
   "id": "c4691090",
   "metadata": {},
   "source": [
    "It can be seen that the probability that a survivor is female is 68.13%.\n",
    "\n",
    "$$P(Female | Survived) = 68.13\\%$$\n",
    "\n",
    "The probability that a survivor is male is 31.87%.\n",
    "\n",
    "$$P(Male | Survived) = 31.87\\%$$"
   ]
  },
  {
   "cell_type": "code",
   "execution_count": 12,
   "id": "9a59228c",
   "metadata": {},
   "outputs": [],
   "source": [
    "female_deceased = len(perished.loc[perished[\"Sex\"]==\"female\"])\n",
    "male_deceased = len(perished.loc[perished[\"Sex\"]==\"male\"])"
   ]
  },
  {
   "cell_type": "code",
   "execution_count": 13,
   "id": "b0c0070f",
   "metadata": {},
   "outputs": [
    {
     "name": "stdout",
     "output_type": "stream",
     "text": [
      "14.75% of the deceased are female. 85.25% of the deceased are male\n"
     ]
    }
   ],
   "source": [
    "prob_female_deceased = female_deceased/total_perished\n",
    "prob_male_deceased = male_deceased/total_perished\n",
    "\n",
    "print(\"{:.2f}% of the deceased are female. {:.2f}% of the \\\n",
    "deceased are male\".format(prob_female_deceased*100,prob_male_deceased*100))"
   ]
  },
  {
   "cell_type": "markdown",
   "id": "6415a70f",
   "metadata": {},
   "source": [
    "It can be seen that the probability that the person deceased is female is 14.75%.\n",
    "\n",
    "$$P(Female | Deceased) = 14.75\\%$$\n",
    "\n",
    "The probability that the person deceased is male is 85.25%.\n",
    "\n",
    "$$P(Male | Deceased) = 85.25\\%$$"
   ]
  },
  {
   "cell_type": "code",
   "execution_count": null,
   "id": "b9e9c7e6",
   "metadata": {},
   "outputs": [],
   "source": []
  },
  {
   "cell_type": "markdown",
   "id": "f25df5cd",
   "metadata": {},
   "source": [
    "## Using Bayes' Theorem, you can now calculate the probability that a person survived or died given their gender by making use of the probabilities calculated above:\n",
    "\n",
    "$$P(Survived) = 38.38\\%$$\n",
    "\n",
    "$$P(Deceased) = 61.62\\%$$\n",
    "\n",
    "$$P(Female) = 35.24\\%$$ \n",
    "\n",
    "$$P(Male)= 64.76\\%$$\n",
    "\n",
    "$$P(Female | Survived) = 68.13\\%$$\n",
    "\n",
    "$$P(Male | Survived) = 31.87\\%$$\n",
    "\n",
    "$$P(Female | Deceased) = 14.75\\%$$\n",
    "\n",
    "$$P(Male | Deceased) = 85.25\\%$$"
   ]
  },
  {
   "cell_type": "code",
   "execution_count": null,
   "id": "d51ff3e9",
   "metadata": {},
   "outputs": [],
   "source": []
  },
  {
   "cell_type": "code",
   "execution_count": null,
   "id": "8021c391",
   "metadata": {},
   "outputs": [],
   "source": []
  },
  {
   "cell_type": "markdown",
   "id": "45e9e8f8",
   "metadata": {},
   "source": [
    "## The probabilities of surviving or dying with respect to gender are as follows:\n",
    "\n"
   ]
  },
  {
   "cell_type": "code",
   "execution_count": null,
   "id": "851adfbe",
   "metadata": {},
   "outputs": [],
   "source": []
  },
  {
   "cell_type": "markdown",
   "id": "6f0532c5",
   "metadata": {},
   "source": [
    "### Probability of survival given the person is female is:\n",
    "\n",
    "\n",
    "$$P(Survived | Female) = \\dfrac{P(Female|Survived)\\cdot P(Survived)}{P(Female)} = \\dfrac{0.6813 \\cdot 0.3838}{0.3524} = 74.20\\%$$"
   ]
  },
  {
   "cell_type": "code",
   "execution_count": 14,
   "id": "728b2d52",
   "metadata": {
    "scrolled": true
   },
   "outputs": [
    {
     "name": "stdout",
     "output_type": "stream",
     "text": [
      "74.20%\n"
     ]
    }
   ],
   "source": [
    "prob_survived_female = (prob_female_survived*prob_survived)/prob_female\n",
    "print(\"{:.2f}%\".format(prob_survived_female*100))"
   ]
  },
  {
   "cell_type": "code",
   "execution_count": null,
   "id": "520f7675",
   "metadata": {},
   "outputs": [],
   "source": []
  },
  {
   "cell_type": "markdown",
   "id": "1d00eb60",
   "metadata": {},
   "source": [
    "### Probability of being deceased given the person is female is:\n",
    "\n",
    "$$P(Deceased | Female) = \\dfrac{P(Female|Deceased)\\cdot P(Deceased)}{P(Female)} = \\dfrac{0.1475 \\cdot 0.6162}{0.3524} = 25.80\\%$$"
   ]
  },
  {
   "cell_type": "code",
   "execution_count": 15,
   "id": "bf97b65f",
   "metadata": {
    "scrolled": true
   },
   "outputs": [
    {
     "name": "stdout",
     "output_type": "stream",
     "text": [
      "25.80%\n"
     ]
    }
   ],
   "source": [
    "prob_deceased_female = (prob_female_deceased*prob_deceased)/prob_female\n",
    "print(\"{:.2f}%\".format(prob_deceased_female*100))"
   ]
  },
  {
   "cell_type": "code",
   "execution_count": null,
   "id": "9d90f3eb",
   "metadata": {},
   "outputs": [],
   "source": []
  },
  {
   "cell_type": "markdown",
   "id": "94e85e6c",
   "metadata": {},
   "source": [
    "### Probability of survival given the person is male is:\n",
    "\n",
    "$$P(Survived | Male) = \\dfrac{P(Male|Survived)\\cdot P(Survived)}{P(Male)} = \\dfrac{0.3187 \\cdot 0.3838}{0.6476} = 18.89\\%$$"
   ]
  },
  {
   "cell_type": "code",
   "execution_count": 16,
   "id": "a220903e",
   "metadata": {
    "scrolled": true
   },
   "outputs": [
    {
     "name": "stdout",
     "output_type": "stream",
     "text": [
      "18.89%\n"
     ]
    }
   ],
   "source": [
    "prob_survived_male = (prob_male_survived*prob_survived)/prob_male\n",
    "print(\"{:.2f}%\".format(prob_survived_male*100))"
   ]
  },
  {
   "cell_type": "code",
   "execution_count": null,
   "id": "7831e9d2",
   "metadata": {},
   "outputs": [],
   "source": []
  },
  {
   "cell_type": "markdown",
   "id": "d715d20b",
   "metadata": {},
   "source": [
    "### Probability of being deceased given the person is male is:\n",
    "\n",
    "$$P(Deceased | Male) = \\dfrac{P(Male|Deceased)\\cdot P(Deceased)}{P(Male)} = \\dfrac{0.8525 \\cdot 0.3838}{0.6476}= 81.11\\%$$"
   ]
  },
  {
   "cell_type": "code",
   "execution_count": 17,
   "id": "d594f0f1",
   "metadata": {
    "scrolled": false
   },
   "outputs": [
    {
     "name": "stdout",
     "output_type": "stream",
     "text": [
      "81.11%\n"
     ]
    }
   ],
   "source": [
    "prob_deceased_male = (prob_male_deceased*prob_deceased)/prob_male\n",
    "print(\"{:.2f}%\".format(prob_deceased_male*100))"
   ]
  },
  {
   "cell_type": "code",
   "execution_count": null,
   "id": "deac86a4",
   "metadata": {},
   "outputs": [],
   "source": []
  },
  {
   "cell_type": "code",
   "execution_count": 18,
   "id": "f9cbf1d8",
   "metadata": {},
   "outputs": [],
   "source": [
    "from visuals import plot_survivors_deceased"
   ]
  },
  {
   "cell_type": "code",
   "execution_count": 19,
   "id": "397382e7",
   "metadata": {},
   "outputs": [
    {
     "data": {
      "image/png": "[encoded data removed]",
      "text/plain": [
       "<Figure size 432x288 with 1 Axes>"
      ]
     },
     "metadata": {
      "needs_background": "light"
     },
     "output_type": "display_data"
    }
   ],
   "source": [
    "survival_chances = (prob_survived_male,prob_survived_female)\n",
    "deceased_chances = (prob_deceased_male,prob_deceased_female)\n",
    "classes = 2\n",
    "width = 0.5\n",
    "class_labels = (\"Male\",\"Female\")\n",
    "variable = \"Gender\"\n",
    "\n",
    "plot_survivors_deceased(survival_chances, deceased_chances, classes, width, class_labels,variable)"
   ]
  },
  {
   "cell_type": "markdown",
   "id": "a92b5f79",
   "metadata": {},
   "source": [
    "## It can be concluded that gender has an effect surviving the sinking of the Titanic."
   ]
  },
  {
   "cell_type": "code",
   "execution_count": null,
   "id": "2362dcb7",
   "metadata": {},
   "outputs": [],
   "source": []
  },
  {
   "cell_type": "markdown",
   "id": "644a61f2",
   "metadata": {},
   "source": [
    "# Does the class you were in have an effect on whether you lived or died?"
   ]
  },
  {
   "cell_type": "code",
   "execution_count": null,
   "id": "5412674b",
   "metadata": {},
   "outputs": [],
   "source": []
  },
  {
   "cell_type": "markdown",
   "id": "53a64620",
   "metadata": {},
   "source": [
    "### Probabilities in this section are rounded to three decimal places for readability. As, due to  unfortunate rounding errors, rounding probabilities to two decimal places result in probabilities that do not add up to 1. Which seemingly breaks the law of total probability (unforgivable to mathematicians).  Rest assured, the full precision probabilities in this notebook add up to 1 for their respective partitions. So the law of total probability is not broken. This is for the mathematicians."
   ]
  },
  {
   "cell_type": "code",
   "execution_count": 20,
   "id": "7b1aaee8",
   "metadata": {},
   "outputs": [
    {
     "name": "stdout",
     "output_type": "stream",
     "text": [
      "24.242% of passengers were first class. \n",
      "20.651% of passengers were in second class. \n",
      "55.107% of passengers were in third class.\n"
     ]
    }
   ],
   "source": [
    "prob_1st = len(df.loc[df[\"Pclass\"] == 1])/total_people\n",
    "prob_2nd = len(df.loc[df[\"Pclass\"] == 2])/total_people\n",
    "prob_3rd = len(df.loc[df[\"Pclass\"] == 3])/total_people\n",
    "\n",
    "print(\"{:.3f}% of passengers were first class. \\n\\\n",
    "{:.3f}% of passengers were in second class. \\n\\\n",
    "{:.3f}% of passengers were in third class.\".format(prob_1st*100,prob_2nd*100,prob_3rd*100))"
   ]
  },
  {
   "cell_type": "markdown",
   "id": "6804efa2",
   "metadata": {},
   "source": [
    "Upper class people acounted for $\\approx$ a quarter of the people on the ship.\n",
    "\n",
    "$$P(1^{st}) = 24.242\\%$$\n",
    "\n",
    "Middle class people acounted for $\\approx$ a fifth of the people on the ship.\n",
    "\n",
    "$$P(2^{nd}) = 20.651\\%$$\n",
    "\n",
    "\n",
    "Lower class people accounted for $\\approx$ half of the people on the ship.\n",
    "\n",
    "$$P(3^{rd}) = 55.107\\%$$"
   ]
  },
  {
   "cell_type": "code",
   "execution_count": 21,
   "id": "6c44bf1d",
   "metadata": {},
   "outputs": [
    {
     "name": "stdout",
     "output_type": "stream",
     "text": [
      "39.766% of the survivors were in first class. \n",
      "25.439% of the survivors were in second class. \n",
      "34.795% of the survivors were in third class.\n"
     ]
    }
   ],
   "source": [
    "prob_1st_survived = len(survived.loc[survived[\"Pclass\"] == 1])/total_survivors\n",
    "prob_2nd_survived = len(survived.loc[survived[\"Pclass\"] == 2])/total_survivors\n",
    "prob_3rd_survived = len(survived.loc[survived[\"Pclass\"] == 3])/total_survivors\n",
    "\n",
    "print(\"{:.3f}% of the survivors were in first class. \\n\\\n",
    "{:.3f}% of the survivors were in second class. \\n\\\n",
    "{:.3f}% of the survivors were in third class.\".format(prob_1st_survived*100,\\\n",
    "                                                       prob_2nd_survived*100,\\\n",
    "                                                       prob_3rd_survived*100))"
   ]
  },
  {
   "cell_type": "markdown",
   "id": "0608bbf2",
   "metadata": {},
   "source": [
    "### It was almost equally likely to come across a survivor in any class\n",
    "\n",
    "$$P(1^{st} | Survived) = 39.766\\%$$\n",
    "\n",
    "$$P(2^{nd} | Survived) = 25.439\\%$$\n",
    "\n",
    "$$P(3^{rd} | Survived) = 34.795\\%$$"
   ]
  },
  {
   "cell_type": "code",
   "execution_count": 22,
   "id": "aa577443",
   "metadata": {},
   "outputs": [
    {
     "name": "stdout",
     "output_type": "stream",
     "text": [
      "14.572% of the deceased were in first class. \n",
      "17.668% of the deceased were in second class. \n",
      "67.760% of the deceased were in third class.\n"
     ]
    }
   ],
   "source": [
    "prob_1st_deceased = len(perished.loc[perished[\"Pclass\"] == 1])/total_perished\n",
    "prob_2nd_deceased = len(perished.loc[perished[\"Pclass\"] == 2])/total_perished\n",
    "prob_3rd_deceased = len(perished.loc[perished[\"Pclass\"] == 3])/total_perished\n",
    "\n",
    "print(\"{:.3f}% of the deceased were in first class. \\n\\\n",
    "{:.3f}% of the deceased were in second class. \\n\\\n",
    "{:.3f}% of the deceased were in third class.\".format(prob_1st_deceased*100,\\\n",
    "                                                       prob_2nd_deceased*100,\\\n",
    "                                                       prob_3rd_deceased*100))"
   ]
  },
  {
   "cell_type": "markdown",
   "id": "14e24a60",
   "metadata": {},
   "source": [
    "### The majority of the deceased were in the lower class\n",
    "\n",
    "$$P(1^{st} | Deceased) = 14.572\\%$$\n",
    "\n",
    "$$P(2^{nd} | Deceased) = 17.668\\%$$\n",
    "\n",
    "$$P(3^{rd} | Deceased) = 67.760\\%$$"
   ]
  },
  {
   "cell_type": "code",
   "execution_count": 23,
   "id": "fd8095e2",
   "metadata": {},
   "outputs": [
    {
     "name": "stdout",
     "output_type": "stream",
     "text": [
      "38.384% survived. 61.616% perished.\n"
     ]
    }
   ],
   "source": [
    "print(\"{:.3f}% survived. {:.3f}% perished.\".format(prob_survived*100,prob_deceased*100))"
   ]
  },
  {
   "cell_type": "markdown",
   "id": "81994c3d",
   "metadata": {},
   "source": [
    "## Once again, using Bayes' Theorem, the probability that someone survived or perished given their class can be calculated with the following values:\n",
    "\n",
    "$$P(Survived) = 38.384\\%$$\n",
    "\n",
    "$$P(Deceased) = 61.616\\%$$\n",
    "\n",
    "$$P(1^{st}) = 24.242\\%$$\n",
    "\n",
    "$$P(2^{nd}) = 20.651\\%$$\n",
    "\n",
    "$$P(3^{rd}) = 55.107\\%$$\n",
    "\n",
    "$$P(1^{st} | Survived) = 39.766\\%$$\n",
    "\n",
    "$$P(2^{nd} | Survived) = 25.439\\%$$\n",
    "\n",
    "$$P(1^{st} | Survived) = 34.795\\%$$\n",
    "\n",
    "$$P(1^{st} | Deceased) = 14.572\\%$$\n",
    "\n",
    "$$P(2^{nd} | Deceased) = 17.668\\%$$\n",
    "\n",
    "$$P(3^{rd} | Deceased) = 67.760\\%$$"
   ]
  },
  {
   "cell_type": "code",
   "execution_count": null,
   "id": "052d1527",
   "metadata": {},
   "outputs": [],
   "source": []
  },
  {
   "cell_type": "markdown",
   "id": "26d85e93",
   "metadata": {},
   "source": [
    "### Probability of survival given a person is in 1$^{st}$ class:\n",
    "\n",
    "$$P(Survived | 1^{st}) = \\dfrac{P(1^{st} | Survived)\\cdot P(Survived)}{P(1^{st})} = \\dfrac{0.39766 \\cdot 0.38384}{0.24242} = 62.963\\%$$"
   ]
  },
  {
   "cell_type": "code",
   "execution_count": 24,
   "id": "facbe664",
   "metadata": {},
   "outputs": [
    {
     "name": "stdout",
     "output_type": "stream",
     "text": [
      "62.963%\n"
     ]
    }
   ],
   "source": [
    "prob_survived_1st = (prob_1st_survived*prob_survived)/prob_1st\n",
    "print(\"{:.3f}%\".format(prob_survived_1st * 100))"
   ]
  },
  {
   "cell_type": "code",
   "execution_count": null,
   "id": "54132cc5",
   "metadata": {},
   "outputs": [],
   "source": []
  },
  {
   "cell_type": "markdown",
   "id": "eddaaa00",
   "metadata": {},
   "source": [
    "### Probability of deceased given a person is in 1$^{st}$ class:\n",
    "\n",
    "$$P(Deceased | 1^{st}) = \\dfrac{P(1^{st} | Deceased)\\cdot P(Deceased)}{P(1^{st})} = \\dfrac{0.14572 \\cdot 0.61616}{0.24242} = 37.037\\%$$"
   ]
  },
  {
   "cell_type": "code",
   "execution_count": 25,
   "id": "4be4ae46",
   "metadata": {},
   "outputs": [
    {
     "name": "stdout",
     "output_type": "stream",
     "text": [
      "37.037%\n"
     ]
    }
   ],
   "source": [
    "prob_deceased_1st = (prob_1st_deceased*prob_deceased)/prob_1st\n",
    "print(\"{:.3f}%\".format(prob_deceased_1st * 100))"
   ]
  },
  {
   "cell_type": "code",
   "execution_count": null,
   "id": "6c0143a5",
   "metadata": {},
   "outputs": [],
   "source": []
  },
  {
   "cell_type": "markdown",
   "id": "9e80044c",
   "metadata": {},
   "source": [
    "### Probability of survival given a person is in 2$^{nd}$ class:\n",
    "\n",
    "$$P(Survived | 2^{nd}) = \\dfrac{P(2^{nd} | Survived)\\cdot P(Survived)}{P(2^{nd})} = \\dfrac{0.25439 \\cdot 0.38384}{0.20651} = 47.283\\%$$"
   ]
  },
  {
   "cell_type": "code",
   "execution_count": 26,
   "id": "e386e756",
   "metadata": {},
   "outputs": [
    {
     "name": "stdout",
     "output_type": "stream",
     "text": [
      "47.283%\n"
     ]
    }
   ],
   "source": [
    "prob_survived_2nd = (prob_2nd_survived*prob_survived)/prob_2nd\n",
    "print(\"{:.3f}%\".format(prob_survived_2nd * 100))"
   ]
  },
  {
   "cell_type": "code",
   "execution_count": null,
   "id": "16d1e734",
   "metadata": {},
   "outputs": [],
   "source": []
  },
  {
   "cell_type": "markdown",
   "id": "526b475d",
   "metadata": {},
   "source": [
    "### Probability of deceased given a person is in 2$^{nd}$ class:\n",
    "\n",
    "$$P(Deceased | 2^{nd}) = \\dfrac{P(2^{nd} | Deceased)\\cdot P(Deceased)}{P(2^{nd})} = \\dfrac{0.17668 \\cdot 0.61616}{0.20651} = 52.717\\%$$"
   ]
  },
  {
   "cell_type": "code",
   "execution_count": 27,
   "id": "9f2e80e6",
   "metadata": {},
   "outputs": [
    {
     "name": "stdout",
     "output_type": "stream",
     "text": [
      "52.717%\n"
     ]
    }
   ],
   "source": [
    "prob_deceased_2nd = (prob_2nd_deceased*prob_deceased)/prob_2nd\n",
    "print(\"{:.3f}%\".format(prob_deceased_2nd * 100))"
   ]
  },
  {
   "cell_type": "code",
   "execution_count": null,
   "id": "29010326",
   "metadata": {},
   "outputs": [],
   "source": []
  },
  {
   "cell_type": "markdown",
   "id": "7c156221",
   "metadata": {},
   "source": [
    "### Probability of survival given a person is in 3$^{rd}$ class:\n",
    "\n",
    "$$P(Survived | 3^{rd}) = \\dfrac{P(3^{rd} | Survived)\\cdot P(Survived)}{P(3^{rd})} = \\dfrac{0.25439 \\cdot 0.38384}{0.55107} = 24.236\\%$$"
   ]
  },
  {
   "cell_type": "code",
   "execution_count": 28,
   "id": "3d81a148",
   "metadata": {},
   "outputs": [
    {
     "name": "stdout",
     "output_type": "stream",
     "text": [
      "24.236%\n"
     ]
    }
   ],
   "source": [
    "prob_survived_3rd = (prob_3rd_survived*prob_survived)/prob_3rd\n",
    "print(\"{:.3f}%\".format(prob_survived_3rd * 100))"
   ]
  },
  {
   "cell_type": "code",
   "execution_count": null,
   "id": "f05185f6",
   "metadata": {},
   "outputs": [],
   "source": []
  },
  {
   "cell_type": "markdown",
   "id": "01587e17",
   "metadata": {},
   "source": [
    "### Probability of deceased given a person is in 3$^{rd}$ class:\n",
    "\n",
    "$$P(Deceased | 3^{rd}) = \\dfrac{P(3^{rd} | Deceased)\\cdot P(Deceased)}{P(3^{rd})} = \\dfrac{0.67760 \\cdot 0.61616}{0.55107} = 75.764\\%$$"
   ]
  },
  {
   "cell_type": "code",
   "execution_count": 29,
   "id": "de8fa4d1",
   "metadata": {},
   "outputs": [
    {
     "name": "stdout",
     "output_type": "stream",
     "text": [
      "75.764%\n"
     ]
    }
   ],
   "source": [
    "prob_deceased_3rd = (prob_3rd_deceased*prob_deceased)/prob_3rd\n",
    "print(\"{:.3f}%\".format(prob_deceased_3rd * 100))"
   ]
  },
  {
   "cell_type": "code",
   "execution_count": null,
   "id": "c9f64b23",
   "metadata": {},
   "outputs": [],
   "source": []
  },
  {
   "cell_type": "code",
   "execution_count": 30,
   "id": "71966015",
   "metadata": {
    "scrolled": true
   },
   "outputs": [
    {
     "data": {
      "image/png": "[encoded data removed]",
      "text/plain": [
       "<Figure size 432x288 with 1 Axes>"
      ]
     },
     "metadata": {
      "needs_background": "light"
     },
     "output_type": "display_data"
    }
   ],
   "source": [
    "survival_chances = (prob_survived_1st,prob_survived_2nd,prob_survived_3rd)\n",
    "deceased_chances = (prob_deceased_1st,prob_deceased_2nd,prob_deceased_3rd)\n",
    "classes = 3\n",
    "width = 0.35\n",
    "tick_labels = (\"1st\",\"2nd\",\"3rd\")\n",
    "variable = \"Class\"\n",
    "\n",
    "plot_survivors_deceased(survival_chances, deceased_chances, classes, width, tick_labels, variable)"
   ]
  },
  {
   "cell_type": "markdown",
   "id": "0184710a",
   "metadata": {},
   "source": [
    "# The data shows that the more upper class you were, the more likely you were to survive. Class has an effect on a person's chances of survival."
   ]
  },
  {
   "cell_type": "code",
   "execution_count": null,
   "id": "0311069e",
   "metadata": {},
   "outputs": [],
   "source": []
  },
  {
   "cell_type": "markdown",
   "id": "55e2e915",
   "metadata": {},
   "source": [
    "# Does age play a role in survial?\n",
    "\n",
    "Age is given as a real number in this dataset. However, in practice, one typically thinks of people's age in age groups like: infants, children, teenagers, young adults, adults and elderly.\n",
    "\n",
    "\n",
    "The age ranges that make up these categories have a level of subjectivity so a well known partitioning of age group is required. But better yet, unsupervised methods can be used to partition the age groups given the data. These include vector quantisation, self-organising maps and clustering methods.\n",
    "\n",
    "\n",
    "For modelling purposes, in this case it makes more sense to group passengers into age groups because one does not typically make the distinction between an 8 year old and a 10 year old child (only the children do, but they (un)fortunately did not get to decide who ended up on a lifeboat). The absurdity is even more apparent when trying to make the distinction between a child who is 12 years and 3 months old and one who is 11 years and 10  months old. This is what a model trained on age as a continuous variable.In general, the age groups get broader as age increases. Separating age into categories also allows to replace NULL age values under a category of \"unknown\"."
   ]
  },
  {
   "cell_type": "code",
   "execution_count": 31,
   "id": "586606e3",
   "metadata": {},
   "outputs": [],
   "source": [
    "from visuals import plot_age_distribution"
   ]
  },
  {
   "cell_type": "code",
   "execution_count": 32,
   "id": "4740e96d",
   "metadata": {},
   "outputs": [
    {
     "data": {
      "image/png": "[encoded data removed]",
      "text/plain": [
       "<Figure size 1080x144 with 1 Axes>"
      ]
     },
     "metadata": {
      "needs_background": "light"
     },
     "output_type": "display_data"
    }
   ],
   "source": [
    "plot_age_distribution(df[\"Age\"])"
   ]
  },
  {
   "cell_type": "markdown",
   "id": "69d0941c",
   "metadata": {},
   "source": [
    "### The passenger's ages will be broken into the following categories:\n",
    "\n",
    "Ages 0 to 3 is an infant\n",
    "\n",
    "Ages 3 to 13 is a child\n",
    "\n",
    "Ages 13 to 20 is a teenager\n",
    "\n",
    "Ages 20 to 30 is a young adult\n",
    "\n",
    "Ages 30 to 65 is an adult\n",
    "\n",
    "Ages 65+ is elderly\n",
    "\n",
    "NAN is unknown"
   ]
  },
  {
   "cell_type": "code",
   "execution_count": 33,
   "id": "04dcd647",
   "metadata": {},
   "outputs": [],
   "source": [
    "bins = (0,3,13,20,30,65,200)\n",
    "labels = (\"infant\",\"child\",\"teenager\",\"young adult\",\"adult\",\"elderly\")"
   ]
  },
  {
   "cell_type": "code",
   "execution_count": 34,
   "id": "b88bc266",
   "metadata": {},
   "outputs": [],
   "source": [
    "df['Age group'] = pd.cut(df['Age'], bins = bins,labels=labels).cat.add_categories('unknown').fillna('unknown')"
   ]
  },
  {
   "cell_type": "code",
   "execution_count": 37,
   "id": "52408622",
   "metadata": {},
   "outputs": [],
   "source": [
    "age_groups = {}\n",
    "class_label = 0\n",
    "for i in labels:\n",
    "    age_groups[i] = class_label\n",
    "    class_label +=1\n",
    "age_groups['unknown'] = class_label"
   ]
  },
  {
   "cell_type": "markdown",
   "id": "bbfa0d5a",
   "metadata": {},
   "source": [
    "### The probability prior of the different age groups is as follows: calculated below\n",
    "$$P(age) $$\n",
    "\n",
    "Where age is one of the defined age groups"
   ]
  },
  {
   "cell_type": "code",
   "execution_count": 87,
   "id": "fee88a5c",
   "metadata": {},
   "outputs": [],
   "source": [
    "age_group_freq = {}\n",
    "for i in age_groups.keys():\n",
    "    age_group_freq[i] = len(df.loc[df['Age group'] == i])"
   ]
  },
  {
   "cell_type": "code",
   "execution_count": 88,
   "id": "eee6e529",
   "metadata": {},
   "outputs": [],
   "source": [
    "age_priors = {}\n",
    "for i in age_groups.keys():\n",
    "    age_priors[i] = age_group_freq[i]/total_people"
   ]
  },
  {
   "cell_type": "markdown",
   "id": "ed74438e",
   "metadata": {},
   "source": [
    "### Survivor likelihood calculations for the different age follow:\n",
    "$$P(age | Survived) $$"
   ]
  },
  {
   "cell_type": "code",
   "execution_count": 89,
   "id": "f638ec12",
   "metadata": {},
   "outputs": [],
   "source": [
    "survivor_likelihood = {}\n",
    "for i in age_groups.keys():\n",
    "    survivor_likelihood[i] = len(df.loc[(df[\"Survived\"] == 1) & (df[\"Age group\"] == i)])/total_survivors"
   ]
  },
  {
   "cell_type": "markdown",
   "id": "47293530",
   "metadata": {},
   "source": [
    "### Deceased likihood calculations:"
   ]
  },
  {
   "cell_type": "code",
   "execution_count": 90,
   "id": "6962910d",
   "metadata": {},
   "outputs": [],
   "source": [
    "deceased_likelihood = {}\n",
    "for i in age_groups.keys():\n",
    "    deceased_likelihood[i] = len(df.loc[(df[\"Survived\"] == 0) & (df[\"Age group\"] == i)])/total_perished"
   ]
  },
  {
   "cell_type": "markdown",
   "id": "936a3fd0",
   "metadata": {},
   "source": [
    "### Survivor posterior,  the probability of survival given age groups calculated as follows:\n",
    "\n",
    "$$P(Survived | age) = \\dfrac{P(age | Survived)\\cdot P(Survived)}{P(age)} $$"
   ]
  },
  {
   "cell_type": "code",
   "execution_count": 91,
   "id": "aeb17153",
   "metadata": {},
   "outputs": [],
   "source": [
    "survivor_posterior = {}\n",
    "for i in age_groups.keys():\n",
    "    survivor_posterior[i] = (survivor_likelihood[i]*prob_survived)/age_priors[i]"
   ]
  },
  {
   "cell_type": "markdown",
   "id": "07fb60e3",
   "metadata": {},
   "source": [
    "### Deceased posterior,  the probability of dying given age groups calculated as follows:\n",
    "\n",
    "$$P(Deceased | age) = \\dfrac{P(age | Deceased)\\cdot P(Deceased)}{P(age)} $$"
   ]
  },
  {
   "cell_type": "code",
   "execution_count": 93,
   "id": "563a3440",
   "metadata": {},
   "outputs": [],
   "source": [
    "deceased_posterior = {}\n",
    "for i in age_groups.keys():\n",
    "    deceased_posterior[i] = (deceased_likelihood[i]*prob_deceased)/age_priors[i]"
   ]
  },
  {
   "cell_type": "code",
   "execution_count": null,
   "id": "acee6004",
   "metadata": {},
   "outputs": [],
   "source": []
  },
  {
   "cell_type": "code",
   "execution_count": 97,
   "id": "ef05ce5c",
   "metadata": {
    "scrolled": true
   },
   "outputs": [
    {
     "data": {
      "image/png": "[encoded data removed]",
      "text/plain": [
       "<Figure size 432x288 with 1 Axes>"
      ]
     },
     "metadata": {
      "needs_background": "light"
     },
     "output_type": "display_data"
    }
   ],
   "source": [
    "survival_chances = []\n",
    "deceased_chances = []\n",
    "for i in age_groups.keys():\n",
    "    survival_chances.append(survivor_posterior[i]) \n",
    "    deceased_chances.append(deceased_posterior[i]) \n",
    "classes = len(age_groups.keys())\n",
    "width = 0.35\n",
    "tick_labels = list(age_groups.keys())\n",
    "variable = \"Class\"\n",
    "\n",
    "plot_survivors_deceased(survival_chances, deceased_chances, classes, width, tick_labels, variable)"
   ]
  },
  {
   "cell_type": "markdown",
   "id": "28428c38",
   "metadata": {},
   "source": [
    "### The posteriors suggest that children and infants have better chances of survival. They also suggest that elderly people had the worst chances of survival. Teenagers, adults and young adults seem to have a random chance of survival."
   ]
  },
  {
   "cell_type": "code",
   "execution_count": null,
   "id": "ca6ffe68",
   "metadata": {},
   "outputs": [],
   "source": []
  }
 ],
 "metadata": {
  "kernelspec": {
   "display_name": "Python 3",
   "language": "python",
   "name": "python3"
  },
  "language_info": {
   "codemirror_mode": {
    "name": "ipython",
    "version": 3
   },
   "file_extension": ".py",
   "mimetype": "text/x-python",
   "name": "python",
   "nbconvert_exporter": "python",
   "pygments_lexer": "ipython3",
   "version": "3.7.3"
  }
 },
 "nbformat": 4,
 "nbformat_minor": 5
}
