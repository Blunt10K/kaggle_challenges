{
 "cells": [
  {
   "cell_type": "markdown",
   "id": "ec88e237",
   "metadata": {},
   "source": [
    "# This notebook is an exercise in data analysis.\n",
    "\n",
    "### The data under analysis is the Kaggle Titanic dataset. Questions will be asked about a what attributes of a person predict their chances of surviving the accident."
   ]
  },
  {
   "cell_type": "code",
   "execution_count": 1,
   "id": "159b7945",
   "metadata": {},
   "outputs": [],
   "source": [
    "import pandas as pd\n",
    "import matplotlib.pyplot as plt\n"
   ]
  },
  {
   "cell_type": "code",
   "execution_count": 2,
   "id": "33a1d607",
   "metadata": {},
   "outputs": [],
   "source": [
    "fields = ['Survived', 'Pclass', 'Sex', 'Age','SibSp',\n",
    "          'Parch', 'Fare', 'Cabin', 'Embarked']"
   ]
  },
  {
   "cell_type": "code",
   "execution_count": 3,
   "id": "e17e39ea",
   "metadata": {},
   "outputs": [],
   "source": [
    "df = pd.read_csv('./train.csv',usecols=fields)"
   ]
  },
  {
   "cell_type": "markdown",
   "id": "b3caf262",
   "metadata": {},
   "source": [
    "### The sinking of the Titanic was a deadly event. "
   ]
  },
  {
   "cell_type": "code",
   "execution_count": 4,
   "id": "fd93ce26",
   "metadata": {},
   "outputs": [],
   "source": [
    "total_people = len(df)"
   ]
  },
  {
   "cell_type": "code",
   "execution_count": 19,
   "id": "24ba0623",
   "metadata": {},
   "outputs": [],
   "source": [
    "survived = df.loc[df[\"Survived\"]==1]\n",
    "total_survivors = len(survived)\n",
    "percent_survivors = total_survivors/total_people"
   ]
  },
  {
   "cell_type": "code",
   "execution_count": 20,
   "id": "435539da",
   "metadata": {},
   "outputs": [],
   "source": [
    "perished = df.loc[df[\"Survived\"]==0]\n",
    "total_perished = len(perished)\n",
    "percent_perished = total_perished/total_people"
   ]
  },
  {
   "cell_type": "code",
   "execution_count": 21,
   "id": "4dd93919",
   "metadata": {},
   "outputs": [
    {
     "name": "stdout",
     "output_type": "stream",
     "text": [
      "38.38% survived. 61.62% perished\n"
     ]
    }
   ],
   "source": [
    "print(\"{:.2f}% survived. {:.2f}% perished\".\\\n",
    "      format(percent_survivors*100,percent_perished*100))"
   ]
  },
  {
   "cell_type": "markdown",
   "id": "bf9fb8e7",
   "metadata": {},
   "source": [
    "Survived (%) | Perished (%)\n",
    "--- | --- |\n",
    "38.38 | 61.62\n",
    "\n",
    "It was more likely to perish in the Titanic than to survive.\n",
    "\n",
    "==> P(Survived) = 38.38%\n",
    "\n",
    "==> P(Perished) = 61.62%"
   ]
  },
  {
   "cell_type": "markdown",
   "id": "f7b2537b",
   "metadata": {},
   "source": [
    "#### What is the effect of gender on chances of survival?"
   ]
  },
  {
   "cell_type": "code",
   "execution_count": 22,
   "id": "525d2198",
   "metadata": {},
   "outputs": [],
   "source": [
    "men_percentage = len(df.loc[df[\"Sex\"]==\\\n",
    "                    \"male\"])/total_people\n",
    "\n",
    "women_percentage = len(df.loc[df[\"Sex\"]==\\\n",
    "                    \"female\"])/total_people"
   ]
  },
  {
   "cell_type": "code",
   "execution_count": 23,
   "id": "329cec8f",
   "metadata": {},
   "outputs": [
    {
     "name": "stdout",
     "output_type": "stream",
     "text": [
      "35.24% are women. 64.76% are men\n"
     ]
    }
   ],
   "source": [
    "print(\"{:.2f}% are women. {:.2f}% are men\".\\\n",
    "      format(women_percentage*100,men_percentage*100))"
   ]
  },
  {
   "cell_type": "markdown",
   "id": "029d5992",
   "metadata": {},
   "source": [
    "% Female | % Male\n",
    "--- | --- |\n",
    "35.24 | 64.76\n",
    "\n",
    "You were more likely to come across a male on the Titanic that day.\n",
    "\n",
    "==> P(Female) = 35.24%\n",
    "\n",
    "==> P(Male)= 64.76%"
   ]
  },
  {
   "cell_type": "code",
   "execution_count": 25,
   "id": "8cce5487",
   "metadata": {},
   "outputs": [],
   "source": [
    "female_survivors = len(survived.loc[survived[\"Sex\"]==\"female\"])\n",
    "male_survivors = len(survived.loc[survived[\"Sex\"]==\"male\"])"
   ]
  },
  {
   "cell_type": "code",
   "execution_count": 27,
   "id": "787afd6a",
   "metadata": {},
   "outputs": [
    {
     "name": "stdout",
     "output_type": "stream",
     "text": [
      "68.13% of survivors are female. 31.87% of survivors are male\n"
     ]
    }
   ],
   "source": [
    "percent_female = female_survivors/total_survivors\n",
    "percent_male = male_survivors/total_survivors\n",
    "\n",
    "print(\"{:.2f}% of survivors are female. {:.2f}% of survivors are male\"\\\n",
    "      .format(percent_female*100,percent_male*100))"
   ]
  },
  {
   "cell_type": "markdown",
   "id": "f5cdd387",
   "metadata": {},
   "source": [
    "Gender | survival chance (%)\n",
    "--- | --- |\n",
    "Female | 68.13\n",
    "Male | 31.87\n",
    "\n",
    "It can be seen that the probability that a survivor is female is 68.13\\%.\n",
    "\n",
    "==> P(Female \\| Survived) = 68.13\\%\n",
    "\n",
    "The probability that a survivor is male is 31.87\\%.\n",
    "\n",
    "==> P(Male \\| Survived) = 31.87\\%"
   ]
  },
  {
   "cell_type": "code",
   "execution_count": 28,
   "id": "ba7f65aa",
   "metadata": {},
   "outputs": [],
   "source": [
    "female_perished = len(perished.loc[perished[\"Sex\"]==\"female\"])\n",
    "male_perished = len(perished.loc[perished[\"Sex\"]==\"male\"])"
   ]
  },
  {
   "cell_type": "code",
   "execution_count": 30,
   "id": "61eeb008",
   "metadata": {},
   "outputs": [
    {
     "name": "stdout",
     "output_type": "stream",
     "text": [
      "14.75% of the deceased are female. 85.25% of the deceased are male\n"
     ]
    }
   ],
   "source": [
    "percent_female = female_perished/total_perished\n",
    "percent_male = male_perished/total_perished\n",
    "\n",
    "print(\"{:.2f}% of the deceased are female. {:.2f}% of the \\\n",
    "deceased are male\".format(percent_female*100,percent_male*100))"
   ]
  },
  {
   "cell_type": "markdown",
   "id": "036d58a9",
   "metadata": {},
   "source": [
    "Gender | perish chance (%)\n",
    "--- | --- |\n",
    "Female | 14.75\n",
    "Male | 85.25\n",
    "\n",
    "It can be seen that the probability that the person deceased is female is 14.75\\%.\n",
    "\n",
    "==> P(Female \\| Deceased) = 14.75\\%\n",
    "\n",
    "The probability that person deceased is male is 85.25\\%.\n",
    "\n",
    "==> P(Male \\| Deceased) = 85.25\\%"
   ]
  },
  {
   "cell_type": "code",
   "execution_count": 18,
   "id": "e2fc5e6b",
   "metadata": {},
   "outputs": [
    {
     "data": {
      "text/plain": [
       "0.35237244"
      ]
     },
     "execution_count": 18,
     "metadata": {},
     "output_type": "execute_result"
    }
   ],
   "source": [
    ".1475*.6162 + .6813*.3838"
   ]
  },
  {
   "cell_type": "code",
   "execution_count": 19,
   "id": "db4307d9",
   "metadata": {},
   "outputs": [
    {
     "data": {
      "text/plain": [
       "0.25791572077185015"
      ]
     },
     "execution_count": 19,
     "metadata": {},
     "output_type": "execute_result"
    }
   ],
   "source": [
    "(.1475*.6162)/.3524"
   ]
  },
  {
   "cell_type": "code",
   "execution_count": null,
   "id": "77206418",
   "metadata": {},
   "outputs": [],
   "source": []
  }
 ],
 "metadata": {
  "kernelspec": {
   "display_name": "Python 3",
   "language": "python",
   "name": "python3"
  },
  "language_info": {
   "codemirror_mode": {
    "name": "ipython",
    "version": 3
   },
   "file_extension": ".py",
   "mimetype": "text/x-python",
   "name": "python",
   "nbconvert_exporter": "python",
   "pygments_lexer": "ipython3",
   "version": "3.7.3"
  }
 },
 "nbformat": 4,
 "nbformat_minor": 5
}
