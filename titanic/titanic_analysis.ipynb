{
 "cells": [
  {
   "cell_type": "markdown",
   "id": "164a9248",
   "metadata": {},
   "source": [
    "# This notebook is an exercise in data analysis.\n",
    "\n",
    "### The data under analysis is the Kaggle Titanic dataset. Questions will be asked about a what attributes of a person predict their chances of surviving the accident."
   ]
  },
  {
   "cell_type": "code",
   "execution_count": 1,
   "id": "e0e407e2",
   "metadata": {},
   "outputs": [],
   "source": [
    "import pandas as pd\n",
    "import matplotlib.pyplot as plt"
   ]
  },
  {
   "cell_type": "markdown",
   "id": "693a43c5",
   "metadata": {},
   "source": [
    "## The variables relevant to the analysis:"
   ]
  },
  {
   "cell_type": "code",
   "execution_count": 2,
   "id": "1865bf1c",
   "metadata": {},
   "outputs": [],
   "source": [
    "fields = ['Survived', 'Pclass', 'Sex', 'Age','SibSp',\n",
    "          'Parch', 'Fare', 'Cabin', 'Embarked']"
   ]
  },
  {
   "cell_type": "code",
   "execution_count": 3,
   "id": "413db9ac",
   "metadata": {},
   "outputs": [],
   "source": [
    "df = pd.read_csv('./train.csv',usecols=fields)"
   ]
  },
  {
   "cell_type": "markdown",
   "id": "eb7993fc",
   "metadata": {},
   "source": [
    "## The sinking of the Titanic was a deadly event. "
   ]
  },
  {
   "cell_type": "code",
   "execution_count": 4,
   "id": "5bd41990",
   "metadata": {},
   "outputs": [],
   "source": [
    "total_people = len(df)"
   ]
  },
  {
   "cell_type": "code",
   "execution_count": 5,
   "id": "c05e327c",
   "metadata": {},
   "outputs": [],
   "source": [
    "survived = df.loc[df[\"Survived\"]==1]\n",
    "total_survivors = len(survived)\n",
    "prob_survived = total_survivors/total_people"
   ]
  },
  {
   "cell_type": "code",
   "execution_count": 6,
   "id": "ea4974fb",
   "metadata": {},
   "outputs": [],
   "source": [
    "perished = df.loc[df[\"Survived\"]==0]\n",
    "total_perished = len(perished)\n",
    "prob_deceased = total_perished/total_people"
   ]
  },
  {
   "cell_type": "code",
   "execution_count": 7,
   "id": "225a2628",
   "metadata": {},
   "outputs": [
    {
     "name": "stdout",
     "output_type": "stream",
     "text": [
      "38.38% survived. 61.62% perished\n"
     ]
    }
   ],
   "source": [
    "print(\"{:.2f}% survived. {:.2f}% perished\".\\\n",
    "      format(prob_survived*100,prob_deceased*100))"
   ]
  },
  {
   "cell_type": "markdown",
   "id": "785cf226",
   "metadata": {},
   "source": [
    "Survived (%) | Perished (%)\n",
    "--- | --- |\n",
    "38.38 | 61.62\n",
    "\n",
    "### You were more likely to perish on the Titanic than to survive.\n",
    "\n",
    "==> $P(Survived) = 38.38\\%$\n",
    "\n",
    "==> $P(Deceased) = 61.62\\%$"
   ]
  },
  {
   "cell_type": "code",
   "execution_count": null,
   "id": "1c252be4",
   "metadata": {},
   "outputs": [],
   "source": []
  },
  {
   "cell_type": "markdown",
   "id": "5ef99a6f",
   "metadata": {},
   "source": [
    "## What is the effect of gender on chances of survival?"
   ]
  },
  {
   "cell_type": "code",
   "execution_count": 8,
   "id": "06ba6178",
   "metadata": {},
   "outputs": [],
   "source": [
    "prob_male = len(df.loc[df[\"Sex\"]==\\\n",
    "                    \"male\"])/total_people\n",
    "\n",
    "prob_female = len(df.loc[df[\"Sex\"]==\\\n",
    "                    \"female\"])/total_people"
   ]
  },
  {
   "cell_type": "code",
   "execution_count": 9,
   "id": "7ad8ba91",
   "metadata": {},
   "outputs": [
    {
     "name": "stdout",
     "output_type": "stream",
     "text": [
      "35.24% of the passengers are female. 64.76% are male\n"
     ]
    }
   ],
   "source": [
    "print(\"{:.2f}% of the passengers are female. {:.2f}% are male\".\\\n",
    "      format(prob_female*100,prob_male*100))"
   ]
  },
  {
   "cell_type": "markdown",
   "id": "bb0e78cf",
   "metadata": {},
   "source": [
    "% Female | % Male\n",
    "--- | --- |\n",
    "35.24 | 64.76\n",
    "\n",
    "You were more likely to come across a male on the Titanic that day.\n",
    "\n",
    "==> $P(Female) = 35.24\\%$\n",
    "\n",
    "==> $P(Male)= 64.76\\%$"
   ]
  },
  {
   "cell_type": "code",
   "execution_count": 10,
   "id": "2fd25800",
   "metadata": {},
   "outputs": [],
   "source": [
    "female_survivors = len(survived.loc[survived[\"Sex\"]==\"female\"])\n",
    "male_survivors = len(survived.loc[survived[\"Sex\"]==\"male\"])"
   ]
  },
  {
   "cell_type": "code",
   "execution_count": 11,
   "id": "f00c39c8",
   "metadata": {},
   "outputs": [
    {
     "name": "stdout",
     "output_type": "stream",
     "text": [
      "68.13% of survivors are female. 31.87% of survivors are male\n"
     ]
    }
   ],
   "source": [
    "prob_female_survived = female_survivors/total_survivors\n",
    "prob_male_survived = male_survivors/total_survivors\n",
    "\n",
    "print(\"{:.2f}% of survivors are female. {:.2f}% of survivors are male\"\\\n",
    "      .format(prob_female_survived*100,prob_male_survived*100))"
   ]
  },
  {
   "cell_type": "markdown",
   "id": "3a1b35c6",
   "metadata": {},
   "source": [
    "Gender | survival chance (%)\n",
    "--- | --- |\n",
    "Female | 68.13\n",
    "Male | 31.87\n",
    "\n",
    "It can be seen that the probability that a survivor is female is 68.13\\%.\n",
    "\n",
    "==> $P(Female | Survived) = 68.13\\%$\n",
    "\n",
    "The probability that a survivor is male is 31.87\\%.\n",
    "\n",
    "==> $P(Male | Survived) = 31.87\\%$"
   ]
  },
  {
   "cell_type": "code",
   "execution_count": 12,
   "id": "d0826497",
   "metadata": {},
   "outputs": [],
   "source": [
    "female_deceased = len(perished.loc[perished[\"Sex\"]==\"female\"])\n",
    "male_deceased = len(perished.loc[perished[\"Sex\"]==\"male\"])"
   ]
  },
  {
   "cell_type": "code",
   "execution_count": 13,
   "id": "77e63491",
   "metadata": {},
   "outputs": [
    {
     "name": "stdout",
     "output_type": "stream",
     "text": [
      "14.75% of the deceased are female. 85.25% of the deceased are male\n"
     ]
    }
   ],
   "source": [
    "prob_female_deceased = female_deceased/total_perished\n",
    "prob_male_deceased = male_deceased/total_perished\n",
    "\n",
    "print(\"{:.2f}% of the deceased are female. {:.2f}% of the \\\n",
    "deceased are male\".format(prob_female_deceased*100,prob_male_deceased*100))"
   ]
  },
  {
   "cell_type": "markdown",
   "id": "3249b56d",
   "metadata": {},
   "source": [
    "Gender | perish chance (%)\n",
    "--- | --- |\n",
    "Female | 14.75\n",
    "Male | 85.25\n",
    "\n",
    "It can be seen that the probability that the person deceased is female is 14.75\\%.\n",
    "\n",
    "==> $P(Female | Deceased) = 14.75\\%$\n",
    "\n",
    "The probability that person deceased is male is 85.25\\%.\n",
    "\n",
    "==> $P(Male | Deceased) = 85.25\\%$"
   ]
  },
  {
   "cell_type": "code",
   "execution_count": null,
   "id": "deefb493",
   "metadata": {},
   "outputs": [],
   "source": []
  },
  {
   "cell_type": "markdown",
   "id": "1f5522dd",
   "metadata": {},
   "source": [
    "## Using Bayes' Theorem, you can now calculate the probability that a person survived or died given their gender by making use of the probabilities calculated above:\n",
    "\n",
    "$P(Survived) = 38.38\\%$\n",
    "\n",
    "$P(Deceased) = 61.62\\%$\n",
    "\n",
    "$P(Female) = 35.24\\%$\n",
    "\n",
    "$P(Male)= 64.76\\%$\n",
    "\n",
    "$P(Female | Survived) = 68.13\\%$\n",
    "\n",
    "$P(Male | Survived) = 31.87\\%$\n",
    "\n",
    "$P(Female | Deceased) = 14.75\\%$\n",
    "\n",
    "$P(Male | Deceased) = 85.25\\%$"
   ]
  },
  {
   "cell_type": "code",
   "execution_count": null,
   "id": "555cb992",
   "metadata": {},
   "outputs": [],
   "source": []
  },
  {
   "cell_type": "markdown",
   "id": "e79bae1f",
   "metadata": {},
   "source": [
    "## The probabilities of surviving or dying with respect to gender are as follows:\n",
    "\n"
   ]
  },
  {
   "cell_type": "code",
   "execution_count": null,
   "id": "2b319a2d",
   "metadata": {},
   "outputs": [],
   "source": []
  },
  {
   "cell_type": "markdown",
   "id": "94c97275",
   "metadata": {},
   "source": [
    "### Probability of survival given the person is female is:\n",
    "\n",
    "\n",
    "$P(Survived | Female) = \\dfrac{P(Female|Survived)\\cdot P(Survived)}{P(Female)} = \\dfrac{0.6813 \\cdot 0.3838}{0.3524} = 74.20\\%$"
   ]
  },
  {
   "cell_type": "code",
   "execution_count": 14,
   "id": "40c351b1",
   "metadata": {
    "scrolled": true
   },
   "outputs": [
    {
     "name": "stdout",
     "output_type": "stream",
     "text": [
      "74.20%\n"
     ]
    }
   ],
   "source": [
    "prob_survived_female = (prob_female_survived*prob_survived)/prob_female\n",
    "print(\"{:.2f}%\".format(prob_survived_female*100))"
   ]
  },
  {
   "cell_type": "code",
   "execution_count": null,
   "id": "51c3a754",
   "metadata": {},
   "outputs": [],
   "source": []
  },
  {
   "cell_type": "markdown",
   "id": "4003fd64",
   "metadata": {},
   "source": [
    "### Probability of being deceased given the person is female is:\n",
    "\n",
    "$P(Deceased | Female) = \\dfrac{P(Female|Deceased)\\cdot P(Deceased)}{P(Female)} = \\dfrac{0.1475 \\cdot 0.6162}{0.3524} = 25.80\\%$"
   ]
  },
  {
   "cell_type": "code",
   "execution_count": 15,
   "id": "4b530a93",
   "metadata": {
    "scrolled": true
   },
   "outputs": [
    {
     "name": "stdout",
     "output_type": "stream",
     "text": [
      "25.80%\n"
     ]
    }
   ],
   "source": [
    "prob_deceased_female = (prob_female_deceased*prob_deceased)/prob_female\n",
    "print(\"{:.2f}%\".format(prob_deceased_female*100))"
   ]
  },
  {
   "cell_type": "code",
   "execution_count": null,
   "id": "02e12707",
   "metadata": {},
   "outputs": [],
   "source": []
  },
  {
   "cell_type": "markdown",
   "id": "b3ad303d",
   "metadata": {},
   "source": [
    "### Probability of survival given the person is male is:\n",
    "\n",
    "$P(Survived | Male) = \\dfrac{P(Male|Survived)\\cdot P(Survived)}{P(Male)} = \\dfrac{0.3187 \\cdot 0.3838}{0.6476} = 18.89\\%$"
   ]
  },
  {
   "cell_type": "code",
   "execution_count": 16,
   "id": "7e6b1956",
   "metadata": {
    "scrolled": true
   },
   "outputs": [
    {
     "name": "stdout",
     "output_type": "stream",
     "text": [
      "18.89%\n"
     ]
    }
   ],
   "source": [
    "prob_survived_male = (prob_male_survived*prob_survived)/prob_male\n",
    "print(\"{:.2f}%\".format(prob_survived_male*100))"
   ]
  },
  {
   "cell_type": "code",
   "execution_count": null,
   "id": "c1b7156a",
   "metadata": {},
   "outputs": [],
   "source": []
  },
  {
   "cell_type": "markdown",
   "id": "50b4f6c7",
   "metadata": {},
   "source": [
    "### Probability of being deceased given the person is male is:\n",
    "\n",
    "$P(Deceased | Male) = \\dfrac{P(Male|Deceased)\\cdot P(Deceased)}{P(Male)} = \\dfrac{0.8525 \\cdot 0.3838}{0.6476}= 81.11\\%$"
   ]
  },
  {
   "cell_type": "code",
   "execution_count": 17,
   "id": "91ddbfb4",
   "metadata": {
    "scrolled": false
   },
   "outputs": [
    {
     "name": "stdout",
     "output_type": "stream",
     "text": [
      "81.11%\n"
     ]
    }
   ],
   "source": [
    "prob_deceased_male = (prob_male_deceased*prob_deceased)/prob_male\n",
    "print(\"{:.2f}%\".format(prob_deceased_male*100))"
   ]
  },
  {
   "cell_type": "code",
   "execution_count": null,
   "id": "ffa76e30",
   "metadata": {},
   "outputs": [],
   "source": []
  },
  {
   "cell_type": "markdown",
   "id": "c5813577",
   "metadata": {},
   "source": [
    "## It is quite obvious that gender has an effect surviving the sinking of the Titanic."
   ]
  },
  {
   "cell_type": "code",
   "execution_count": 49,
   "id": "97016022",
   "metadata": {},
   "outputs": [],
   "source": [
    "def plot_survivors_deceased(survival_chances, deceased_chances, k, width, tick_labels,variable):\n",
    "    fig = plt.figure()\n",
    "    ax = fig.add_axes([0,1,1,1])\n",
    "\n",
    "    classes = range(0,k)\n",
    "    width = .5\n",
    "\n",
    "    ax.barh(classes,deceased_chances,width, color= \"r\", tick_label = tick_labels)\n",
    "    ax.barh(classes,survival_chances,width,left = deceased_chances, color= \"b\")\n",
    "\n",
    "    ax.set_ylabel(variable)\n",
    "    ax.set_yticks(classes,tick_labels)\n",
    "    ax.legend(labels = (\"Deceased\",\"Survived\"))\n",
    "    \n",
    "    plt.show()"
   ]
  },
  {
   "cell_type": "code",
   "execution_count": 50,
   "id": "539f600b",
   "metadata": {},
   "outputs": [
    {
     "data": {
      "image/png": "[encoded data removed]",
      "text/plain": [
       "<matplotlib.figure.Figure at 0x7f85a51a58>"
      ]
     },
     "metadata": {
      "needs_background": "light"
     },
     "output_type": "display_data"
    }
   ],
   "source": [
    "survival_chances = (prob_survived_male,prob_survived_female)\n",
    "deceased_chances = (prob_deceased_male,prob_deceased_female)\n",
    "classes = 2\n",
    "width = 0.5\n",
    "class_labels = (\"Male\",\"Female\")\n",
    "variable = \"Gender\"\n",
    "\n",
    "plot_survivors_deceased(survival_chances, deceased_chances, classes, width, class_labels,variable)"
   ]
  },
  {
   "cell_type": "markdown",
   "id": "d64ac687",
   "metadata": {},
   "source": [
    "# Does the class you were in have an effect on whether you lived or died?"
   ]
  },
  {
   "cell_type": "code",
   "execution_count": null,
   "id": "e50c599e",
   "metadata": {},
   "outputs": [],
   "source": []
  },
  {
   "cell_type": "markdown",
   "id": "b536157a",
   "metadata": {},
   "source": [
    "### Probabilities in this section are rounded to three decimal places for readability. As, due to  unfortunate rounding errors, rounding probabilities to two decimal places result in probabilities that do not add up to 1. Which seemingly breaks the law of total probability (unforgivable to mathematicians).  Rest assured, the full precision probabilities in this notebook add up to 1 for their respective partitions. So the law of total probability is not broken. This is for the mathematicians."
   ]
  },
  {
   "cell_type": "code",
   "execution_count": 19,
   "id": "b4bdd81c",
   "metadata": {},
   "outputs": [
    {
     "name": "stdout",
     "output_type": "stream",
     "text": [
      "24.242% of passengers were first class. \n",
      "20.651% of passengers were in second class. \n",
      "55.107% of passengers were in third class.\n"
     ]
    }
   ],
   "source": [
    "prob_1st = len(df.loc[df[\"Pclass\"] == 1])/total_people\n",
    "prob_2nd = len(df.loc[df[\"Pclass\"] == 2])/total_people\n",
    "prob_3rd = len(df.loc[df[\"Pclass\"] == 3])/total_people\n",
    "\n",
    "print(\"{:.3f}% of passengers were first class. \\n\\\n",
    "{:.3f}% of passengers were in second class. \\n\\\n",
    "{:.3f}% of passengers were in third class.\".format(prob_1st*100,prob_2nd*100,prob_3rd*100))"
   ]
  },
  {
   "cell_type": "markdown",
   "id": "18da4211",
   "metadata": {},
   "source": [
    "1$^{st}$class % | 2$^{nd}$class % | 3$^{rd}$class %\n",
    "--- | --- | ---\n",
    "24.242 | 20.651 | 55.107\n",
    "\n",
    "Upper class people acounted for $\\approx$ a quarter of the people on the ship.\n",
    "\n",
    "==> $P(1^{st}) = 24.242\\%$\n",
    "\n",
    "Middle class people acounted for $\\approx$ a fifth of the people on the ship.\n",
    "\n",
    "==> $P(2^{nd}) = 20.651\\%$\n",
    "\n",
    "\n",
    "Lower class people accounted for $\\approx$ half of the people on the ship.\n",
    "\n",
    "==> $P(3^{rd}) = 55.107\\%$"
   ]
  },
  {
   "cell_type": "code",
   "execution_count": 20,
   "id": "d5651410",
   "metadata": {},
   "outputs": [
    {
     "name": "stdout",
     "output_type": "stream",
     "text": [
      "39.766% of the survivors were in first class. \n",
      "25.439% of the survivors were in second class. \n",
      "34.795% of the survivors were in third class.\n"
     ]
    }
   ],
   "source": [
    "prob_1st_survived = len(survived.loc[survived[\"Pclass\"] == 1])/total_survivors\n",
    "prob_2nd_survived = len(survived.loc[survived[\"Pclass\"] == 2])/total_survivors\n",
    "prob_3rd_survived = len(survived.loc[survived[\"Pclass\"] == 3])/total_survivors\n",
    "\n",
    "print(\"{:.3f}% of the survivors were in first class. \\n\\\n",
    "{:.3f}% of the survivors were in second class. \\n\\\n",
    "{:.3f}% of the survivors were in third class.\".format(prob_1st_survived*100,\\\n",
    "                                                       prob_2nd_survived*100,\\\n",
    "                                                       prob_3rd_survived*100))"
   ]
  },
  {
   "cell_type": "markdown",
   "id": "69d7d7df",
   "metadata": {},
   "source": [
    "Class | Survival chance % \n",
    "--- | --- \n",
    "1$^{st}$ | 39.766\n",
    "2$^{nd}$ | 25.439 \n",
    "3$^{rd}$ | 34.795 \n",
    "\n",
    "### It was almost equally likely to come across a survivor in any class\n",
    "\n",
    "$P(1^{st} | Survived) = 39.766\\%$\n",
    "\n",
    "$P(2^{nd} | Survived) = 25.439\\%$\n",
    "\n",
    "$P(1^{st} | Survived) = 34.795\\%$"
   ]
  },
  {
   "cell_type": "code",
   "execution_count": 21,
   "id": "7e1d0a88",
   "metadata": {},
   "outputs": [
    {
     "name": "stdout",
     "output_type": "stream",
     "text": [
      "14.572% of the deceased were in first class. \n",
      "17.668% of the deceased were in second class. \n",
      "67.760% of the deceased were in third class.\n"
     ]
    }
   ],
   "source": [
    "prob_1st_deceased = len(perished.loc[perished[\"Pclass\"] == 1])/total_perished\n",
    "prob_2nd_deceased = len(perished.loc[perished[\"Pclass\"] == 2])/total_perished\n",
    "prob_3rd_deceased = len(perished.loc[perished[\"Pclass\"] == 3])/total_perished\n",
    "\n",
    "print(\"{:.3f}% of the deceased were in first class. \\n\\\n",
    "{:.3f}% of the deceased were in second class. \\n\\\n",
    "{:.3f}% of the deceased were in third class.\".format(prob_1st_deceased*100,\\\n",
    "                                                       prob_2nd_deceased*100,\\\n",
    "                                                       prob_3rd_deceased*100))"
   ]
  },
  {
   "cell_type": "markdown",
   "id": "094df0b8",
   "metadata": {},
   "source": [
    "Class | Perish chance % \n",
    "--- | --- \n",
    "1$^{st}$ | 14.572\n",
    "2$^{nd}$ | 17.668\n",
    "3$^{rd}$ | 67.760\n",
    "\n",
    "### The majority of the deceased were in the lower class\n",
    "\n",
    "$P(1^{st} | Deceased) = 14.572\\%$\n",
    "\n",
    "$P(2^{nd} | Deceased) = 17.668\\%$\n",
    "\n",
    "$P(3^{rd} | Deceased) = 67.760\\%$"
   ]
  },
  {
   "cell_type": "code",
   "execution_count": 22,
   "id": "6357de94",
   "metadata": {},
   "outputs": [
    {
     "name": "stdout",
     "output_type": "stream",
     "text": [
      "38.384% survived. 61.616% perished.\n"
     ]
    }
   ],
   "source": [
    "print(\"{:.3f}% survived. {:.3f}% perished.\".format(prob_survived*100,prob_deceased*100))"
   ]
  },
  {
   "cell_type": "markdown",
   "id": "81326bb1",
   "metadata": {},
   "source": [
    "## Once again, using Bayes' Theorem, the probability that someone survived or perished given their class can be calculated with the following values:\n",
    "\n",
    "$P(Survived) = 38.384\\%$\n",
    "\n",
    "$P(Deceased) = 61.616\\%$\n",
    "\n",
    "$P(1^{st}) = 24.242\\%$\n",
    "\n",
    "$P(2^{nd}) = 20.651\\%$\n",
    "\n",
    "$P(3^{rd}) = 55.107\\%$\n",
    "\n",
    "$P(1^{st} | Survived) = 39.766\\%$\n",
    "\n",
    "$P(2^{nd} | Survived) = 25.439\\%$\n",
    "\n",
    "$P(1^{st} | Survived) = 34.795\\%$\n",
    "\n",
    "$P(1^{st} | Deceased) = 14.572\\%$\n",
    "\n",
    "$P(2^{nd} | Deceased) = 17.668\\%$\n",
    "\n",
    "$P(3^{rd} | Deceased) = 67.760\\%$"
   ]
  },
  {
   "cell_type": "code",
   "execution_count": null,
   "id": "82d004e7",
   "metadata": {},
   "outputs": [],
   "source": []
  },
  {
   "cell_type": "markdown",
   "id": "0f33044b",
   "metadata": {},
   "source": [
    "### Probability of survival given a person is in 1$^{st}$ class:\n",
    "\n",
    "$P(Survived | 1^{st}) = \\dfrac{P(1^{st} | Survived)\\cdot P(Survived)}{P(1^{st})} = \\dfrac{0.39766 \\cdot 0.38384}{0.24242} = 62.963\\%$"
   ]
  },
  {
   "cell_type": "code",
   "execution_count": 23,
   "id": "3297be37",
   "metadata": {},
   "outputs": [
    {
     "name": "stdout",
     "output_type": "stream",
     "text": [
      "62.963%\n"
     ]
    }
   ],
   "source": [
    "prob_survived_1st = (prob_1st_survived*prob_survived)/prob_1st\n",
    "print(\"{:.3f}%\".format(prob_survived_1st * 100))"
   ]
  },
  {
   "cell_type": "code",
   "execution_count": null,
   "id": "ea5b0642",
   "metadata": {},
   "outputs": [],
   "source": []
  },
  {
   "cell_type": "markdown",
   "id": "3582ed3e",
   "metadata": {},
   "source": [
    "### Probability of deceased given a person is in 1$^{st}$ class:\n",
    "\n",
    "$P(Deceased | 1^{st}) = \\dfrac{P(1^{st} | Deceased)\\cdot P(Deceased)}{P(1^{st})} = \\dfrac{0.14572 \\cdot 0.61616}{0.24242} = 37.037\\%$"
   ]
  },
  {
   "cell_type": "code",
   "execution_count": 24,
   "id": "b2afe3b5",
   "metadata": {},
   "outputs": [
    {
     "name": "stdout",
     "output_type": "stream",
     "text": [
      "37.037%\n"
     ]
    }
   ],
   "source": [
    "prob_deceased_1st = (prob_1st_deceased*prob_deceased)/prob_1st\n",
    "print(\"{:.3f}%\".format(prob_deceased_1st * 100))"
   ]
  },
  {
   "cell_type": "code",
   "execution_count": null,
   "id": "a6f62a6c",
   "metadata": {},
   "outputs": [],
   "source": []
  },
  {
   "cell_type": "markdown",
   "id": "29d451a6",
   "metadata": {},
   "source": [
    "### Probability of survival given a person is in 2$^{nd}$ class:\n",
    "\n",
    "$P(Survived | 2^{nd}) = \\dfrac{P(2^{nd} | Survived)\\cdot P(Survived)}{P(2^{nd})} = \\dfrac{0.25439 \\cdot 0.38384}{0.20651} = 47.283\\%$"
   ]
  },
  {
   "cell_type": "code",
   "execution_count": 25,
   "id": "42eade76",
   "metadata": {},
   "outputs": [
    {
     "name": "stdout",
     "output_type": "stream",
     "text": [
      "47.283%\n"
     ]
    }
   ],
   "source": [
    "prob_survived_2nd = (prob_2nd_survived*prob_survived)/prob_2nd\n",
    "print(\"{:.3f}%\".format(prob_survived_2nd * 100))"
   ]
  },
  {
   "cell_type": "code",
   "execution_count": null,
   "id": "8ef4582e",
   "metadata": {},
   "outputs": [],
   "source": []
  },
  {
   "cell_type": "markdown",
   "id": "f4e5ac40",
   "metadata": {},
   "source": [
    "### Probability of deceased given a person is in 2$^{nd}$ class:\n",
    "\n",
    "$P(Deceased | 2^{nd}) = \\dfrac{P(2^{nd} | Deceased)\\cdot P(Deceased)}{P(2^{nd})} = \\dfrac{0.17668 \\cdot 0.61616}{0.20651} = 52.717\\%$"
   ]
  },
  {
   "cell_type": "code",
   "execution_count": 26,
   "id": "5f66e684",
   "metadata": {},
   "outputs": [
    {
     "name": "stdout",
     "output_type": "stream",
     "text": [
      "52.717%\n"
     ]
    }
   ],
   "source": [
    "prob_deceased_2nd = (prob_2nd_deceased*prob_deceased)/prob_2nd\n",
    "print(\"{:.3f}%\".format(prob_deceased_2nd * 100))"
   ]
  },
  {
   "cell_type": "code",
   "execution_count": null,
   "id": "4bcce9eb",
   "metadata": {},
   "outputs": [],
   "source": []
  },
  {
   "cell_type": "markdown",
   "id": "903b0c15",
   "metadata": {},
   "source": [
    "### Probability of survival given a person is in 3$^{rd}$ class:\n",
    "\n",
    "$P(Survived | 3^{rd}) = \\dfrac{P(3^{rd} | Survived)\\cdot P(Survived)}{P(3^{rd})} = \\dfrac{0.25439 \\cdot 0.38384}{0.55107} = 24.236\\%$"
   ]
  },
  {
   "cell_type": "code",
   "execution_count": 27,
   "id": "ae14a2cb",
   "metadata": {},
   "outputs": [
    {
     "name": "stdout",
     "output_type": "stream",
     "text": [
      "24.236%\n"
     ]
    }
   ],
   "source": [
    "prob_survived_3rd = (prob_3rd_survived*prob_survived)/prob_3rd\n",
    "print(\"{:.3f}%\".format(prob_survived_3rd * 100))"
   ]
  },
  {
   "cell_type": "code",
   "execution_count": null,
   "id": "404e4928",
   "metadata": {},
   "outputs": [],
   "source": []
  },
  {
   "cell_type": "markdown",
   "id": "e35d4991",
   "metadata": {},
   "source": [
    "### Probability of deceased given a person is in 3$^{rd}$ class:\n",
    "\n",
    "$P(Deceased | 3^{rd}) = \\dfrac{P(3^{rd} | Deceased)\\cdot P(Deceased)}{P(3^{rd})} = \\dfrac{0.67760 \\cdot 0.61616}{0.55107} = 75.764\\%$"
   ]
  },
  {
   "cell_type": "code",
   "execution_count": 28,
   "id": "bf0c16e2",
   "metadata": {},
   "outputs": [
    {
     "name": "stdout",
     "output_type": "stream",
     "text": [
      "75.764%\n"
     ]
    }
   ],
   "source": [
    "prob_deceased_3rd = (prob_3rd_deceased*prob_deceased)/prob_3rd\n",
    "print(\"{:.3f}%\".format(prob_deceased_3rd * 100))"
   ]
  },
  {
   "cell_type": "code",
   "execution_count": null,
   "id": "14aef642",
   "metadata": {},
   "outputs": [],
   "source": []
  },
  {
   "cell_type": "code",
   "execution_count": 51,
   "id": "d3713b37",
   "metadata": {},
   "outputs": [
    {
     "data": {
      "image/png": "[encoded data removed]",
      "text/plain": [
       "<matplotlib.figure.Figure at 0x7f85849ac8>"
      ]
     },
     "metadata": {
      "needs_background": "light"
     },
     "output_type": "display_data"
    }
   ],
   "source": [
    "survival_chances = (prob_survived_1st,prob_survived_2nd,prob_survived_3rd)\n",
    "deceased_chances = (prob_deceased_1st,prob_deceased_2nd,prob_deceased_3rd)\n",
    "classes = 3\n",
    "width = 0.35\n",
    "tick_labels = (\"1st\",\"2nd\",\"3rd\")\n",
    "variable = \"Class\"\n",
    "\n",
    "plot_survivors_deceased(survival_chances, deceased_chances, classes, width, tick_labels, variable)"
   ]
  },
  {
   "cell_type": "markdown",
   "id": "43578e14",
   "metadata": {},
   "source": [
    "##"
   ]
  }
 ],
 "metadata": {
  "kernelspec": {
   "display_name": "Python 3",
   "language": "python",
   "name": "python3"
  },
  "language_info": {
   "codemirror_mode": {
    "name": "ipython",
    "version": 3
   },
   "file_extension": ".py",
   "mimetype": "text/x-python",
   "name": "python",
   "nbconvert_exporter": "python",
   "pygments_lexer": "ipython3",
   "version": "3.6.9"
  }
 },
 "nbformat": 4,
 "nbformat_minor": 5
}
